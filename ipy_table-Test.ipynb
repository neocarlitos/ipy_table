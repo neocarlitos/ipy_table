{
 "metadata": {
  "name": ""
 },
 "nbformat": 3,
 "nbformat_minor": 0,
 "worksheets": [
  {
   "cells": [
    {
     "cell_type": "heading",
     "level": 3,
     "metadata": {},
     "source": [
      "Badly formed array"
     ]
    },
    {
     "cell_type": "code",
     "collapsed": false,
     "input": [
      "%load_ext autoreload\n",
      "%autoreload 2"
     ],
     "language": "python",
     "metadata": {},
     "outputs": [],
     "prompt_number": 1
    },
    {
     "cell_type": "code",
     "collapsed": false,
     "input": [
      "from ipy_table import *\n",
      "array = [[0, 1, 2], [3, 4]]\n",
      "try:\n",
      "    t = IpyTable(array)\n",
      "except ValueError:\n",
      "    print 'Pass'\n",
      "else:\n",
      "    print 'Fail'"
     ],
     "language": "python",
     "metadata": {},
     "outputs": [
      {
       "output_type": "stream",
       "stream": "stdout",
       "text": [
        "Pass\n"
       ]
      }
     ],
     "prompt_number": 2
    },
    {
     "cell_type": "heading",
     "level": 3,
     "metadata": {},
     "source": [
      "Row range checking"
     ]
    },
    {
     "cell_type": "code",
     "collapsed": false,
     "input": [
      "array = [[0, 1], [2, 3]]\n",
      "t = IpyTable(array)\n",
      "try:\n",
      "    t.set_cell_style(2, 0, color='red')\n",
      "except ValueError, error_text:\n",
      "    print 'Pass (%s)' % error_text\n",
      "else:\n",
      "    print 'Fail'"
     ],
     "language": "python",
     "metadata": {},
     "outputs": [
      {
       "output_type": "stream",
       "stream": "stdout",
       "text": [
        "Pass (Bad row (2).  Expected row in range 0 to 1.)\n"
       ]
      }
     ],
     "prompt_number": 3
    },
    {
     "cell_type": "heading",
     "level": 3,
     "metadata": {},
     "source": [
      "Unknown Theme"
     ]
    },
    {
     "cell_type": "code",
     "collapsed": false,
     "input": [
      "array = [[0, 1], [2, 3]]\n",
      "t = IpyTable(array)\n",
      "try:\n",
      "    t.apply_theme(\"monty\")\n",
      "except ValueError, error_text:\n",
      "    print 'Pass (%s)' % error_text\n",
      "else:\n",
      "    print 'Fail'"
     ],
     "language": "python",
     "metadata": {},
     "outputs": [
      {
       "output_type": "stream",
       "stream": "stdout",
       "text": [
        "Pass (Unknown theme \"monty\". Expected one of ['basic', 'basic_left', 'basic_both'].)\n"
       ]
      }
     ],
     "prompt_number": 4
    },
    {
     "cell_type": "heading",
     "level": 3,
     "metadata": {},
     "source": [
      "Random Styles"
     ]
    },
    {
     "cell_type": "code",
     "collapsed": false,
     "input": [
      "import random\n",
      "import string \n",
      "import ipy_table as ipt\n",
      "\n",
      "width = randint(1,6)\n",
      "height = randint(1,6)\n",
      "array = [[None for column in range(width)] for row in range(height)]\n",
      "for row in range(height):\n",
      "    for column in range(width):\n",
      "        array[row][column] = random.choice([\n",
      "            random.random()*1000000,\n",
      "            ''.join(random.choice(string.ascii_uppercase + string.digits) for x in range(randint(1,14))), \n",
      "            randint(1000000)])\n",
      "make_table(array)\n",
      "for i in range(20):\n",
      "    row = randint(height)\n",
      "    column = randint(width)\n",
      "    style = random.choice(['color', 'bold', 'thick_border', 'no_border'])\n",
      "    if style == 'color':\n",
      "        set_cell_style(row, column, color=random.choice(['red', 'blue', 'green']))\n",
      "    elif style == 'bold':\n",
      "        set_cell_style(row, column, bold=True)\n",
      "    elif style == 'thick_border':\n",
      "        set_cell_style(row, column, thick_border=random.choice(['left', 'right', 'top', 'bottom']))\n",
      "    elif style == 'no_border':\n",
      "        set_cell_style(row, column, no_border=random.choice(['left', 'right', 'top', 'bottom']))\n",
      "        \n",
      "ipt._TABLE"
     ],
     "language": "python",
     "metadata": {},
     "outputs": [
      {
       "html": [
        "<table border=\"1\" cellpadding=\"3\" cellspacing=\"0\"  style=\"border:1px solid black;border-collapse:collapse;\"><tr><td  style=\"border-bottom: 1px solid transparent;border-top: 1px solid transparent;\">H51BYF2Y</td><td  style=\"border-right: 1px solid transparent;\"><b>MV5S</b></td><td  style=\"background-color:red;border-left: 1px solid transparent;border-top: 1px solid transparent;\">561573.6421</td><td  style=\"background-color:green;border-left: 3px solid black;\">KZ061J0Y</td></tr><tr><td  style=\"border-top: 1px solid transparent;\">964005.6040</td><td>G9OBGPK9YV</td><td  style=\"border-bottom: 3px solid black;border-bottom: 1px solid transparent;\">641710.9356</td><td>279374</td></tr><tr><td><b>533313</b></td><td>327196</td><td  style=\"border-top: 3px solid black;border-top: 1px solid transparent;border-right: 1px solid transparent;\"><b>165032.1970</b></td><td  style=\"border-top: 3px solid black;border-left: 1px solid transparent;\">902807.4719</td></tr></table>"
       ],
       "latex": [
        "\\definecolor{green}{rgb}{0.0,0.502,0.0}\n",
        "\\definecolor{red}{rgb}{1.0,0.0,0.0}\n",
        "\n",
        "\\begin{tabular}{|l|l l|l|}\\cline{2-2}\\cline{4-4}\n",
        "\\multicolumn{1}{|l }{H51BYF2Y} & \\multicolumn{1}{ l }{\\textbf{MV5S}} & \\multicolumn{1}{ l!{\\vrule width 1pt}}{\\cellcolor{red}561573.6421} & \\multicolumn{1}{!{\\vrule width 1pt}l|}{\\cellcolor{green}KZ061J0Y} \\\\  \\cline{2-4}\n",
        "964005.6040 & \\multicolumn{1}{|l|}{G9OBGPK9YV} & \\multicolumn{1}{|l|}{641710.9356} & 279374 \\\\  \\cline{1-2}\\thickline{2pt}{4-4}\n",
        "\\textbf{533313} & 327196 & \\multicolumn{1}{ l }{\\textbf{165032.1970}} & \\multicolumn{1}{ l|}{902807.4719} \\\\  \\cline{1-4}\n",
        "\\end{tabular}"
       ],
       "metadata": {},
       "output_type": "pyout",
       "prompt_number": 5,
       "text": [
        "<ipy_table.IpyTable at 0x9a526ac>"
       ]
      }
     ],
     "prompt_number": 5
    },
    {
     "cell_type": "heading",
     "level": 3,
     "metadata": {},
     "source": [
      "thick_border value checking"
     ]
    },
    {
     "cell_type": "code",
     "collapsed": false,
     "input": [
      "array = [[0, 1], [2, 3]]\n",
      "t = IpyTable(array)\n",
      "try:\n",
      "    t.set_cell_style(0, 0, thick_border=True)\n",
      "except TypeError, error_text:\n",
      "    print 'Pass (%s)' % error_text\n",
      "else:\n",
      "    print 'Fail'"
     ],
     "language": "python",
     "metadata": {},
     "outputs": [
      {
       "output_type": "stream",
       "stream": "stdout",
       "text": [
        "Pass (thick_border must be a string of comma separated border names (e.g. \"left,right\"))\n"
       ]
      }
     ],
     "prompt_number": 6
    },
    {
     "cell_type": "code",
     "collapsed": false,
     "input": [
      "try:\n",
      "    t.set_cell_style(0, 0, thick_border='left + bottom')\n",
      "except ValueError, error_text:\n",
      "    print 'Pass (%s)' % error_text\n",
      "else:\n",
      "    print 'Fail'"
     ],
     "language": "python",
     "metadata": {},
     "outputs": [
      {
       "output_type": "stream",
       "stream": "stdout",
       "text": [
        "Pass (thick_border must be a string of comma separated border names (e.g. \"left,right\"). Valid border names: set(['left', 'all', 'right', 'top', 'bottom']))\n"
       ]
      }
     ],
     "prompt_number": 7
    },
    {
     "cell_type": "heading",
     "level": 3,
     "metadata": {},
     "source": [
      "no_border value checking"
     ]
    },
    {
     "cell_type": "code",
     "collapsed": false,
     "input": [
      "array = [[0, 1], [2, 3]]\n",
      "t = IpyTable(array)\n",
      "try:\n",
      "    t.set_cell_style(0, 0, no_border=True)\n",
      "except TypeError, error_text:\n",
      "    print 'Pass (%s)' % error_text\n",
      "else:\n",
      "    print 'Fail'"
     ],
     "language": "python",
     "metadata": {},
     "outputs": [
      {
       "output_type": "stream",
       "stream": "stdout",
       "text": [
        "Pass (no_border must be a string of comma separated border names (e.g. \"left,right\"))\n"
       ]
      }
     ],
     "prompt_number": 8
    },
    {
     "cell_type": "code",
     "collapsed": false,
     "input": [
      "try:\n",
      "    t.set_cell_style(0, 0, no_border='left + bottom')\n",
      "except ValueError, error_text:\n",
      "    print 'Pass (%s)' % error_text\n",
      "else:\n",
      "    print 'Fail'"
     ],
     "language": "python",
     "metadata": {},
     "outputs": [
      {
       "output_type": "stream",
       "stream": "stdout",
       "text": [
        "Pass (no_border must be a string of comma separated border names (e.g. \"left,right\"). Valid border names: set(['left', 'all', 'right', 'top', 'bottom']))\n"
       ]
      }
     ],
     "prompt_number": 9
    },
    {
     "cell_type": "heading",
     "level": 3,
     "metadata": {},
     "source": [
      "Unicode Support"
     ]
    },
    {
     "cell_type": "code",
     "collapsed": false,
     "input": [
      "# a=make_table([(u'Unicode Characters: \\xe9\\u03a0\\u03a3', 1),('test2',2)])\n",
      "a=make_table([(u'Unicode Characters: \u00e9\u03a0\u03a3', 1),('test2',2)])"
     ],
     "language": "python",
     "metadata": {},
     "outputs": [],
     "prompt_number": 10
    },
    {
     "cell_type": "code",
     "collapsed": false,
     "input": [
      "a._repr_html_()"
     ],
     "language": "python",
     "metadata": {},
     "outputs": [
      {
       "metadata": {},
       "output_type": "pyout",
       "prompt_number": 11,
       "text": [
        "u'<table border=\"1\" cellpadding=\"3\" cellspacing=\"0\"  style=\"border:1px solid black;border-collapse:collapse;\"><tr><td>Unicode&nbspCharacters:&nbsp\\xe9\\u03a0\\u03a3</td><td>1</td></tr><tr><td>test2</td><td>2</td></tr></table>'"
       ]
      }
     ],
     "prompt_number": 11
    },
    {
     "cell_type": "code",
     "collapsed": false,
     "input": [
      "a"
     ],
     "language": "python",
     "metadata": {},
     "outputs": [
      {
       "html": [
        "<table border=\"1\" cellpadding=\"3\" cellspacing=\"0\"  style=\"border:1px solid black;border-collapse:collapse;\"><tr><td>Unicode&nbspCharacters:&nbsp\u00e9\u03a0\u03a3</td><td>1</td></tr><tr><td>test2</td><td>2</td></tr></table>"
       ],
       "latex": [
        "\n",
        "\\begin{tabular}{|l|l|}\\cline{1-2}\n",
        "Unicode Characters: \u00e9\u03a0\u03a3 & 1 \\\\  \\cline{1-2}\n",
        "test2 & 2 \\\\  \\cline{1-2}\n",
        "\\end{tabular}"
       ],
       "metadata": {},
       "output_type": "pyout",
       "prompt_number": 12,
       "text": [
        "<ipy_table.IpyTable at 0x9a44c8c>"
       ]
      }
     ],
     "prompt_number": 12
    },
    {
     "cell_type": "code",
     "collapsed": false,
     "input": [
      "apply_theme('basic')"
     ],
     "language": "python",
     "metadata": {},
     "outputs": [
      {
       "html": [
        "<table border=\"1\" cellpadding=\"3\" cellspacing=\"0\"  style=\"border:1px solid black;border-collapse:collapse;\"><tr><td  style=\"background-color:LightGray;\"><b>Unicode&nbspCharacters:&nbsp\u00e9\u03a0\u03a3</b></td><td  style=\"background-color:LightGray;\"><b>1</b></td></tr><tr><td  style=\"background-color:Ivory;\">test2</td><td  style=\"background-color:Ivory;\">2</td></tr></table>"
       ],
       "latex": [
        "\\definecolor{Ivory}{rgb}{1.0,1.0,0.9412}\n",
        "\\definecolor{LightGray}{rgb}{0.8275,0.8275,0.8275}\n",
        "\n",
        "\\begin{tabular}{|>{\\columncolor{LightGray}}l|>{\\columncolor{LightGray}}l|}\\cline{1-2}\n",
        "\\textbf{Unicode Characters: \u00e9\u03a0\u03a3} & \\textbf{1} \\\\  \\cline{1-2}\n",
        "\\multicolumn{1}{|l|}{\\cellcolor{Ivory}test2} & \\multicolumn{1}{|l|}{\\cellcolor{Ivory}2} \\\\  \\cline{1-2}\n",
        "\\end{tabular}"
       ],
       "metadata": {},
       "output_type": "pyout",
       "prompt_number": 13,
       "text": [
        "<ipy_table.IpyTable at 0x9a44c8c>"
       ]
      }
     ],
     "prompt_number": 13
    }
   ],
   "metadata": {}
  }
 ]
}