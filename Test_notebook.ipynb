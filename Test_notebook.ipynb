{
 "metadata": {
  "name": ""
 },
 "nbformat": 3,
 "nbformat_minor": 0,
 "worksheets": [
  {
   "cells": [
    {
     "cell_type": "code",
     "collapsed": false,
     "input": [
      "%load_ext autoreload\n",
      "%autoreload 2"
     ],
     "language": "python",
     "metadata": {},
     "outputs": [],
     "prompt_number": 1
    },
    {
     "cell_type": "code",
     "collapsed": false,
     "input": [
      "import ipy_table as pytbl"
     ],
     "language": "python",
     "metadata": {},
     "outputs": [],
     "prompt_number": 2
    },
    {
     "cell_type": "code",
     "collapsed": false,
     "input": [
      "from collections import Counter"
     ],
     "language": "python",
     "metadata": {},
     "outputs": [],
     "prompt_number": 3
    },
    {
     "cell_type": "code",
     "collapsed": false,
     "input": [
      "table = [];\n",
      "table.append([''    , 'Heading 1', 'Heading 2', 'Heading 3'])\n",
      "table.append(['Row1', 'xxxxxxxxx', 'y'        , 'z'*20])\n",
      "table.append(['Row2', 'Hello'    , 'ipython'  , 'tables!' ])\n",
      "table.append(['Row3', 3.14259    , 1.782      , 0.991     ])\n",
      "table.append(['Row4', 'Number'   , 10.2       , 10 ])\n",
      "\n",
      "pytbl.make_table(table)\n",
      "x = pytbl.apply_theme('basic')\n",
      "x"
     ],
     "language": "python",
     "metadata": {},
     "outputs": [
      {
       "html": [
        "<table border=\"1\" cellpadding=\"3\" cellspacing=\"0\"  style=\"border:1px solid black;border-collapse:collapse;\"><tr><td  style=\"background-color:LightGray;\"><b></b></td><td  style=\"background-color:LightGray;\"><b>Heading&nbsp1</b></td><td  style=\"background-color:LightGray;\"><b>Heading&nbsp2</b></td><td  style=\"background-color:LightGray;\"><b>Heading&nbsp3</b></td></tr><tr><td  style=\"background-color:Ivory;\">Row1</td><td  style=\"background-color:Ivory;\">xxxxxxxxx</td><td  style=\"background-color:Ivory;\">y</td><td  style=\"background-color:Ivory;\">zzzzzzzzzzzzzzzzzzzz</td></tr><tr><td  style=\"background-color:AliceBlue;\">Row2</td><td  style=\"background-color:AliceBlue;\">Hello</td><td  style=\"background-color:AliceBlue;\">ipython</td><td  style=\"background-color:AliceBlue;\">tables!</td></tr><tr><td  style=\"background-color:Ivory;\">Row3</td><td  style=\"background-color:Ivory;\">3.1426</td><td  style=\"background-color:Ivory;\">1.7820</td><td  style=\"background-color:Ivory;\">0.9910</td></tr><tr><td  style=\"background-color:AliceBlue;\">Row4</td><td  style=\"background-color:AliceBlue;\">Number</td><td  style=\"background-color:AliceBlue;\">10.2000</td><td  style=\"background-color:AliceBlue;\">10</td></tr></table>"
       ],
       "latex": [
        "\\definecolor{AliceBlue}{rgb}{0.9412,0.9725,1.0}\n",
        "\\definecolor{Ivory}{rgb}{1.0,1.0,0.9412}\n",
        "\\definecolor{LightGray}{rgb}{0.8275,0.8275,0.8275}\n",
        "\n",
        "\\begin{tabular}{|>{\\columncolor{Ivory}}l|>{\\columncolor{Ivory}}l|>{\\columncolor{Ivory}}l|>{\\columncolor{Ivory}}l|}\\cline{1-4}\n",
        "\\multicolumn{1}{|l|}{\\cellcolor{LightGray}\\textbf{}} & \\multicolumn{1}{|l|}{\\cellcolor{LightGray}\\textbf{Heading 1}} & \\multicolumn{1}{|l|}{\\cellcolor{LightGray}\\textbf{Heading 2}} & \\multicolumn{1}{|l|}{\\cellcolor{LightGray}\\textbf{Heading 3}} \\\\  \\cline{1-4}\n",
        "Row1 & xxxxxxxxx & y & zzzzzzzzzzzzzzzzzzzz \\\\  \\cline{1-4}\n",
        "\\multicolumn{1}{|l|}{\\cellcolor{AliceBlue}Row2} & \\multicolumn{1}{|l|}{\\cellcolor{AliceBlue}Hello} & \\multicolumn{1}{|l|}{\\cellcolor{AliceBlue}ipython} & \\multicolumn{1}{|l|}{\\cellcolor{AliceBlue}tables!} \\\\  \\cline{1-4}\n",
        "Row3 & 3.1426 & 1.7820 & 0.9910 \\\\  \\cline{1-4}\n",
        "\\multicolumn{1}{|l|}{\\cellcolor{AliceBlue}Row4} & \\multicolumn{1}{|l|}{\\cellcolor{AliceBlue}Number} & \\multicolumn{1}{|l|}{\\cellcolor{AliceBlue}10.2000} & \\multicolumn{1}{|l|}{\\cellcolor{AliceBlue}10} \\\\  \\cline{1-4}\n",
        "\\end{tabular}"
       ],
       "metadata": {},
       "output_type": "pyout",
       "prompt_number": 19,
       "text": [
        "<ipy_table.IpyTable at 0x9fe7a6c>"
       ]
      }
     ],
     "prompt_number": 19
    },
    {
     "cell_type": "raw",
     "metadata": {},
     "source": [
      "-- Style HTML: what it does\n",
      "\n",
      "+ align       : Text align\n",
      "+ thick_border: Options are: left,right,top,bottom,all. Creates a double-width border\n",
      "+ no_border   : Options as above, deletes border\n",
      "+ row_span    : Latex multirow\n",
      "+ column_span : Latex multicol\n",
      "+ width       : Set width in pixels\n",
      "- color       : Set background colour"
     ]
    },
    {
     "cell_type": "code",
     "collapsed": false,
     "input": [
      "x = pytbl.make_table(table)\n",
      "# pytbl.apply_theme('basic')\n",
      "pytbl.set_cell_style(0,0, color='LightGray')\n",
      "pytbl.set_cell_style(0,1, color='LightGray')\n",
      "pytbl.set_cell_style(0,2, color='LightGray')\n",
      "pytbl.set_cell_style(0,3, color='LightGray')\n",
      "\n",
      "pytbl.set_cell_style(1,0, color='Cyan')\n",
      "pytbl.set_cell_style(2,0, color='Cyan')\n",
      "pytbl.set_cell_style(3,0, color='Cyan')\n",
      "pytbl.set_cell_style(4,0, color='Cyan')\n",
      "\n",
      "pytbl.set_cell_style(1,1, color='Pink')\n",
      "\n",
      "print x._repr_latex_()\n",
      "x"
     ],
     "language": "python",
     "metadata": {},
     "outputs": [
      {
       "output_type": "stream",
       "stream": "stdout",
       "text": [
        "\\definecolor{Cyan}{rgb}{0.0,1.0,1.0}\n",
        "\\definecolor{LightGray}{rgb}{0.8275,0.8275,0.8275}\n",
        "\\definecolor{Pink}{rgb}{1.0,0.7529,0.7961}\n",
        "\n",
        "\\begin{tabular}{|>{\\columncolor{Cyan}}l|l|l|l|}\\cline{1-4}\n",
        "\\multicolumn{1}{|l|}{\\cellcolor{LightGray}} & \\multicolumn{1}{|l|}{\\cellcolor{LightGray}Heading 1} & \\multicolumn{1}{|l|}{\\cellcolor{LightGray}Heading 2} & \\multicolumn{1}{|l|}{\\cellcolor{LightGray}Heading 3} \\\\  \\cline{1-4}\n",
        "Row1 & \\multicolumn{1}{|l|}{\\cellcolor{Pink}xxxxxxxxx} & y & zzzzzzzzzzzzzzzzzzzz \\\\  \\cline{1-4}\n",
        "Row2 & Hello & ipython & tables! \\\\  \\cline{1-4}\n",
        "Row3 & 3.1426 & 1.7820 & 0.9910 \\\\  \\cline{1-4}\n",
        "Row4 & Number & 10.2000 & 10 \\\\  \\cline{1-4}\n",
        "\\end{tabular}\n"
       ]
      },
      {
       "html": [
        "<table border=\"1\" cellpadding=\"3\" cellspacing=\"0\"  style=\"border:1px solid black;border-collapse:collapse;\"><tr><td  style=\"background-color:LightGray;\"></td><td  style=\"background-color:LightGray;\">Heading&nbsp1</td><td  style=\"background-color:LightGray;\">Heading&nbsp2</td><td  style=\"background-color:LightGray;\">Heading&nbsp3</td></tr><tr><td  style=\"background-color:Cyan;\">Row1</td><td  style=\"background-color:Pink;\">xxxxxxxxx</td><td>y</td><td>zzzzzzzzzzzzzzzzzzzz</td></tr><tr><td  style=\"background-color:Cyan;\">Row2</td><td>Hello</td><td>ipython</td><td>tables!</td></tr><tr><td  style=\"background-color:Cyan;\">Row3</td><td>3.1426</td><td>1.7820</td><td>0.9910</td></tr><tr><td  style=\"background-color:Cyan;\">Row4</td><td>Number</td><td>10.2000</td><td>10</td></tr></table>"
       ],
       "latex": [
        "\\definecolor{Cyan}{rgb}{0.0,1.0,1.0}\n",
        "\\definecolor{LightGray}{rgb}{0.8275,0.8275,0.8275}\n",
        "\\definecolor{Pink}{rgb}{1.0,0.7529,0.7961}\n",
        "\n",
        "\\begin{tabular}{|>{\\columncolor{Cyan}}l|l|l|l|}\\cline{1-4}\n",
        "\\multicolumn{1}{|l|}{\\cellcolor{LightGray}} & \\multicolumn{1}{|l|}{\\cellcolor{LightGray}Heading 1} & \\multicolumn{1}{|l|}{\\cellcolor{LightGray}Heading 2} & \\multicolumn{1}{|l|}{\\cellcolor{LightGray}Heading 3} \\\\  \\cline{1-4}\n",
        "Row1 & \\multicolumn{1}{|l|}{\\cellcolor{Pink}xxxxxxxxx} & y & zzzzzzzzzzzzzzzzzzzz \\\\  \\cline{1-4}\n",
        "Row2 & Hello & ipython & tables! \\\\  \\cline{1-4}\n",
        "Row3 & 3.1426 & 1.7820 & 0.9910 \\\\  \\cline{1-4}\n",
        "Row4 & Number & 10.2000 & 10 \\\\  \\cline{1-4}\n",
        "\\end{tabular}"
       ],
       "metadata": {},
       "output_type": "pyout",
       "prompt_number": 20,
       "text": [
        "<ipy_table.IpyTable at 0x9fdf78c>"
       ]
      }
     ],
     "prompt_number": 20
    },
    {
     "cell_type": "code",
     "collapsed": false,
     "input": [
      "# x._repr_html_()\n",
      "x._build_color_matrix()"
     ],
     "language": "python",
     "metadata": {},
     "outputs": [
      {
       "metadata": {},
       "output_type": "pyout",
       "prompt_number": 6,
       "text": [
        "array([[ 2.,  2.,  2.,  2.],\n",
        "       [ 4.,  3.,  0.,  0.],\n",
        "       [ 4.,  0.,  0.,  0.],\n",
        "       [ 4.,  0.,  0.,  0.],\n",
        "       [ 4.,  0.,  0.,  0.]])"
       ]
      }
     ],
     "prompt_number": 6
    },
    {
     "cell_type": "code",
     "collapsed": false,
     "input": [
      "cell_colors = x._build_color_matrix()\n",
      "unique(cell_colors)"
     ],
     "language": "python",
     "metadata": {},
     "outputs": [
      {
       "metadata": {},
       "output_type": "pyout",
       "prompt_number": 13,
       "text": [
        "array([ 0.,  3.,  4.,  5.])"
       ]
      }
     ],
     "prompt_number": 13
    },
    {
     "cell_type": "code",
     "collapsed": false,
     "input": [],
     "language": "python",
     "metadata": {},
     "outputs": [],
     "prompt_number": 6
    },
    {
     "cell_type": "code",
     "collapsed": false,
     "input": [],
     "language": "python",
     "metadata": {},
     "outputs": [],
     "prompt_number": 6
    },
    {
     "cell_type": "code",
     "collapsed": false,
     "input": [],
     "language": "python",
     "metadata": {},
     "outputs": [],
     "prompt_number": 6
    },
    {
     "cell_type": "code",
     "collapsed": false,
     "input": [],
     "language": "python",
     "metadata": {},
     "outputs": [],
     "prompt_number": 6
    },
    {
     "cell_type": "code",
     "collapsed": false,
     "input": [],
     "language": "python",
     "metadata": {},
     "outputs": [],
     "prompt_number": 6
    },
    {
     "cell_type": "code",
     "collapsed": false,
     "input": [],
     "language": "python",
     "metadata": {},
     "outputs": [],
     "prompt_number": 6
    },
    {
     "cell_type": "code",
     "collapsed": false,
     "input": [
      "# COMPLEX EXAMPLE -- IF WE CAN DO THIS, WE CAN DO ANYTHING!\n",
      "\n",
      "x = pytbl.make_table(table)\n",
      "pytbl.set_cell_style(2,3, row_span=2, color='cyan')\n",
      "pytbl.set_cell_style(4,0, column_span=2, color='green')\n",
      "pytbl.set_cell_style(0,0, thick_border='left', color='gray')\n",
      "pytbl.set_cell_style(0,1, thick_border='left', color='gray')\n",
      "pytbl.set_cell_style(3,2, thick_border='bottom', color='orange')\n",
      "pytbl.set_cell_style(1,2, no_border='left', color='yellow')\n",
      "pytbl.set_cell_style(1,2, no_border='right', color='yellow')\n",
      "pytbl.set_cell_style(2,1, align='right', color='pink')\n",
      "pytbl.set_cell_style(2,2, align='right', color='pink')\n",
      "pytbl.set_cell_style(2,1, width=200, color='red')\n",
      "\n",
      "print x._repr_latex_()\n",
      "x"
     ],
     "language": "python",
     "metadata": {},
     "outputs": [
      {
       "output_type": "stream",
       "stream": "stdout",
       "text": [
        "\\newcolumntype{L}[1]{>{\\raggedright\\let\\newline\\\\\\arraybackslash\\hspace{0pt}}m{#1}}\n",
        "\\newcolumntype{C}[1]{>{\\centering\\let\\newline\\\\\\arraybackslash\\hspace{0pt}}m{#1}}\n",
        "\\newcolumntype{R}[1]{>{\\raggedleft\\let\\newline\\\\\\arraybackslash\\hspace{0pt}}m{#1}}\n",
        "\n",
        "\\definecolor{cyan}{rgb}{0.0,1.0,1.0}\n",
        "\\definecolor{gray}{rgb}{0.502,0.502,0.502}\n",
        "\\definecolor{green}{rgb}{0.0,0.502,0.0}\n",
        "\\definecolor{orange}{rgb}{1.0,0.6471,0.0}\n",
        "\\definecolor{pink}{rgb}{1.0,0.7529,0.7961}\n",
        "\\definecolor{red}{rgb}{1.0,0.0,0.0}\n",
        "\\definecolor{yellow}{rgb}{1.0,1.0,0.0}\n",
        "\n",
        "\\begin{tabular}{|l|L{150.0px}|l|l|}\\cline{1-4}\n",
        "\\multicolumn{1}{!{\\vrule width 2pt}l!{\\vrule width 1pt}}{\\cellcolor{gray}} & \\multicolumn{1}{!{\\vrule width 1pt}l|}{\\cellcolor{gray}Heading 1} & Heading 2 & Heading 3 \\\\  \\cline{1-4}\n",
        "\\multicolumn{1}{|l }{Row1} & \\multicolumn{1}{ l }{xxxxxxxxx} & \\multicolumn{1}{ l|}{\\cellcolor{yellow}y} & zzzzzzzzzzzzzzzzzzzz \\\\  \\cline{1-4}\n",
        "Row2 & \\multicolumn{1}{|r|}{\\cellcolor{red}Hello} & \\multicolumn{1}{|r|}{\\cellcolor{pink}ipython} & \\multicolumn{1}{|l|}{\\cellcolor{cyan}\\multirow{2}{*}{tables!}} \\\\  \\cline{1-3}\n",
        "Row3 & 3.1426 & \\multicolumn{1}{|l|}{\\cellcolor{orange}1.7820} &  \\\\  \\cline{1-2}\\thickline{2pt}{3-3}\\cline{4-4}\n",
        "\\multicolumn{2}{|l|}{\\cellcolor{green}Row4} & 10.2000 & 10 \\\\  \\cline{1-4}\n",
        "\\end{tabular}\n"
       ]
      },
      {
       "html": [
        "<table border=\"1\" cellpadding=\"3\" cellspacing=\"0\"  style=\"border:1px solid black;border-collapse:collapse;\"><tr><td  style=\"background-color:gray;border-left: 3px solid black;\"></td><td  style=\"background-color:gray;border-left: 3px solid black;\">Heading&nbsp1</td><td>Heading&nbsp2</td><td>Heading&nbsp3</td></tr><tr><td>Row1</td><td  style=\"border-right: 1px solid transparent;\">xxxxxxxxx</td><td  style=\"background-color:yellow;border-left: 1px solid transparent;border-right: 1px solid transparent;\">y</td><td>zzzzzzzzzzzzzzzzzzzz</td></tr><tr><td>Row2</td><td  style=\"background-color:red;text-align:right;width:200px;\">Hello</td><td  style=\"background-color:pink;text-align:right;\">ipython</td><td rowspan=\"2\"; style=\"background-color:cyan;\">tables!</td></tr><tr><td>Row3</td><td>3.1426</td><td  style=\"background-color:orange;border-bottom: 3px solid black;\">1.7820</td></tr><tr><td colspan=\"2\"; style=\"background-color:green;\">Row4</td><td  style=\"border-top: 3px solid black;\">10.2000</td><td>10</td></tr></table>"
       ],
       "latex": [
        "\\newcolumntype{L}[1]{>{\\raggedright\\let\\newline\\\\\\arraybackslash\\hspace{0pt}}m{#1}}\n",
        "\\newcolumntype{C}[1]{>{\\centering\\let\\newline\\\\\\arraybackslash\\hspace{0pt}}m{#1}}\n",
        "\\newcolumntype{R}[1]{>{\\raggedleft\\let\\newline\\\\\\arraybackslash\\hspace{0pt}}m{#1}}\n",
        "\n",
        "\\definecolor{cyan}{rgb}{0.0,1.0,1.0}\n",
        "\\definecolor{gray}{rgb}{0.502,0.502,0.502}\n",
        "\\definecolor{green}{rgb}{0.0,0.502,0.0}\n",
        "\\definecolor{orange}{rgb}{1.0,0.6471,0.0}\n",
        "\\definecolor{pink}{rgb}{1.0,0.7529,0.7961}\n",
        "\\definecolor{red}{rgb}{1.0,0.0,0.0}\n",
        "\\definecolor{yellow}{rgb}{1.0,1.0,0.0}\n",
        "\n",
        "\\begin{tabular}{|l|L{150.0px}|l|l|}\\cline{1-4}\n",
        "\\multicolumn{1}{!{\\vrule width 2pt}l!{\\vrule width 1pt}}{\\cellcolor{gray}} & \\multicolumn{1}{!{\\vrule width 1pt}l|}{\\cellcolor{gray}Heading 1} & Heading 2 & Heading 3 \\\\  \\cline{1-4}\n",
        "\\multicolumn{1}{|l }{Row1} & \\multicolumn{1}{ l }{xxxxxxxxx} & \\multicolumn{1}{ l|}{\\cellcolor{yellow}y} & zzzzzzzzzzzzzzzzzzzz \\\\  \\cline{1-4}\n",
        "Row2 & \\multicolumn{1}{|r|}{\\cellcolor{red}Hello} & \\multicolumn{1}{|r|}{\\cellcolor{pink}ipython} & \\multicolumn{1}{|l|}{\\cellcolor{cyan}\\multirow{2}{*}{tables!}} \\\\  \\cline{1-3}\n",
        "Row3 & 3.1426 & \\multicolumn{1}{|l|}{\\cellcolor{orange}1.7820} &  \\\\  \\cline{1-2}\\thickline{2pt}{3-3}\\cline{4-4}\n",
        "\\multicolumn{2}{|l|}{\\cellcolor{green}Row4} & 10.2000 & 10 \\\\  \\cline{1-4}\n",
        "\\end{tabular}"
       ],
       "metadata": {},
       "output_type": "pyout",
       "prompt_number": 21,
       "text": [
        "<ipy_table.IpyTable at 0x9fdf98c>"
       ]
      }
     ],
     "prompt_number": 21
    }
   ],
   "metadata": {}
  }
 ]
}